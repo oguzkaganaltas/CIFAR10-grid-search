{
 "cells": [
  {
   "cell_type": "code",
   "execution_count": 2,
   "metadata": {},
   "outputs": [],
   "source": [
    "a = [4,5]"
   ]
  },
  {
   "cell_type": "code",
   "execution_count": 3,
   "metadata": {},
   "outputs": [
    {
     "data": {
      "text/plain": [
       "[4, 5, 1, 2, 3]"
      ]
     },
     "execution_count": 3,
     "metadata": {},
     "output_type": "execute_result"
    }
   ],
   "source": [
    "results = a + [1,2,3]"
   ]
  },
  {
   "cell_type": "code",
   "execution_count": null,
   "metadata": {},
   "outputs": [],
   "source": [
    "fields= [\"neurons\",\"hidden_layers\",\"lr\",\"activation_funcs\",\"train_loss\",\"train_accuracy\",\"val_loss\",\"val_accuracy\",\"num_epoch\",\"test_loss\",\"test_accuracy\"]\n",
    "import csv\n",
    "with open('RESULTStest', 'w') as f:\n",
    "    write = csv.writer(f)\n",
    "    write.writerow(fields)\n",
    "    write.writerows(results)"
   ]
  }
 ],
 "metadata": {
  "interpreter": {
   "hash": "7cda2852b034b356f43daaf8889adb638525dc2249479826a56d9ccc441d7697"
  },
  "kernelspec": {
   "display_name": "Python 3.9.7 64-bit ('Pytorch': conda)",
   "language": "python",
   "name": "python3"
  },
  "language_info": {
   "codemirror_mode": {
    "name": "ipython",
    "version": 3
   },
   "file_extension": ".py",
   "mimetype": "text/x-python",
   "name": "python",
   "nbconvert_exporter": "python",
   "pygments_lexer": "ipython3",
   "version": "3.9.7"
  },
  "orig_nbformat": 4
 },
 "nbformat": 4,
 "nbformat_minor": 2
}
